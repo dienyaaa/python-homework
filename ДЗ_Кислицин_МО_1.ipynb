{
  "cells": [
    {
      "cell_type": "markdown",
      "metadata": {
        "id": "view-in-github",
        "colab_type": "text"
      },
      "source": [
        "<a href=\"https://colab.research.google.com/github/dienyaaa/python-homework/blob/ML/%D0%94%D0%97_%D0%9A%D0%B8%D1%81%D0%BB%D0%B8%D1%86%D0%B8%D0%BD_%D0%9C%D0%9E_1.ipynb\" target=\"_parent\"><img src=\"https://colab.research.google.com/assets/colab-badge.svg\" alt=\"Open In Colab\"/></a>"
      ]
    },
    {
      "cell_type": "markdown",
      "metadata": {
        "id": "oE83eZ7L7-5q"
      },
      "source": [
        "# План:\n",
        "1. Python\n",
        "2. Numpy\n",
        "3. Regexp"
      ]
    },
    {
      "cell_type": "markdown",
      "metadata": {
        "id": "5W1f3O2r7-5u"
      },
      "source": [
        "# Python"
      ]
    },
    {
      "cell_type": "markdown",
      "metadata": {
        "id": "UKn_wHVK7-5v"
      },
      "source": [
        "1. Склеить 3 подстроки \"ada\", \"lovelace\", \"was considered the world's first computer programmer.\". Первые две строки сделать с большой буквы.  (★☆☆)"
      ]
    },
    {
      "cell_type": "code",
      "execution_count": null,
      "metadata": {
        "id": "jRBB73ve7-5w",
        "colab": {
          "base_uri": "https://localhost:8080/",
          "height": 35
        },
        "outputId": "2885daf2-6652-4e67-9703-778c22833d06"
      },
      "outputs": [
        {
          "output_type": "execute_result",
          "data": {
            "text/plain": [
              "\"Ada Lovelace was considered the world's first computer programmer.\""
            ],
            "application/vnd.google.colaboratory.intrinsic+json": {
              "type": "string"
            }
          },
          "metadata": {},
          "execution_count": 1
        }
      ],
      "source": [
        "\"ada \".capitalize()+\"lovelace \".capitalize()+\"was considered the world's first computer programmer.\""
      ]
    },
    {
      "cell_type": "markdown",
      "metadata": {
        "id": "SLC83wKC7-5x"
      },
      "source": [
        "2. Удаление лишних пробельных символов справа, слева, с обоих сторон  (☆☆☆)"
      ]
    },
    {
      "cell_type": "code",
      "execution_count": null,
      "metadata": {
        "id": "TzYAeuH87-5y",
        "colab": {
          "base_uri": "https://localhost:8080/"
        },
        "outputId": "33d28aac-ad1c-46e9-bdb8-42f69be632cd"
      },
      "outputs": [
        {
          "output_type": "stream",
          "name": "stdout",
          "text": [
            "       Whitespaces  left and   right\n",
            "Whitespaces  left and   right    \n",
            "Whitespaces  left and   right\n"
          ]
        }
      ],
      "source": [
        "print(\"       Whitespaces  left and   right    \".rstrip())\n",
        "print(\"       Whitespaces  left and   right    \".lstrip())\n",
        "print(\"       Whitespaces  left and   right    \".strip())"
      ]
    },
    {
      "cell_type": "markdown",
      "metadata": {
        "id": "CDNdDtgf7-5y"
      },
      "source": [
        "3. Найти первое вхождение в строку подстроки (☆☆☆)"
      ]
    },
    {
      "cell_type": "code",
      "execution_count": null,
      "metadata": {
        "id": "UUcgKgMU7-5z",
        "colab": {
          "base_uri": "https://localhost:8080/"
        },
        "outputId": "130de921-dd58-4258-a52c-cf8a8aeb56ba"
      },
      "outputs": [
        {
          "output_type": "execute_result",
          "data": {
            "text/plain": [
              "7"
            ]
          },
          "metadata": {},
          "execution_count": 3
        }
      ],
      "source": [
        "s1=\"But if you stick with me, I’m gonna accomplish great things, Morty, and you’re gonna be part of ’em.\"\n",
        "s2=\"you\"\n",
        "\n",
        "s1.find(s2)"
      ]
    },
    {
      "cell_type": "markdown",
      "metadata": {
        "id": "glYpHxe17-53"
      },
      "source": [
        "4. Разбить строку по разделителю (☆☆☆)"
      ]
    },
    {
      "cell_type": "code",
      "execution_count": null,
      "metadata": {
        "id": "eQdWkDj87-54"
      },
      "outputs": [],
      "source": [
        "s1=\"Holy#cow,#Rick!#I#didn’t#know#hanging#out#with#you#was#making#me#smarter!\"\n",
        "\n",
        "s1_list = s1.split('#')"
      ]
    },
    {
      "cell_type": "markdown",
      "metadata": {
        "id": "ZYvWj__67-54"
      },
      "source": [
        "5. Полученный массив строк склеить через пробел (★☆☆)"
      ]
    },
    {
      "cell_type": "code",
      "execution_count": null,
      "metadata": {
        "id": "FYahPQbj7-54",
        "colab": {
          "base_uri": "https://localhost:8080/",
          "height": 35
        },
        "outputId": "b217fdf6-1805-47f1-88b5-e0c9c6bf8be7"
      },
      "outputs": [
        {
          "output_type": "execute_result",
          "data": {
            "text/plain": [
              "'Holy cow, Rick! I didn’t know hanging out with you was making me smarter!'"
            ],
            "application/vnd.google.colaboratory.intrinsic+json": {
              "type": "string"
            }
          },
          "metadata": {},
          "execution_count": 5
        }
      ],
      "source": [
        "' '.join(s1_list)"
      ]
    },
    {
      "cell_type": "markdown",
      "metadata": {
        "id": "gBWcMRgA7-54"
      },
      "source": [
        "6. Вывести данные из словаря в три строки в виде \"NAME (age AGE) is a JOB\" (★☆☆)"
      ]
    },
    {
      "cell_type": "code",
      "execution_count": null,
      "metadata": {
        "id": "DYRA4y_b7-55",
        "colab": {
          "base_uri": "https://localhost:8080/"
        },
        "outputId": "e79ad189-8072-48b0-fa40-f423d92de206"
      },
      "outputs": [
        {
          "output_type": "stream",
          "name": "stdout",
          "text": [
            "Ann (age 29) is a Artist\n",
            "Leo (age 54) is a Programmer\n",
            "Tiffany (age 43) is a Shop Assistant\n"
          ]
        }
      ],
      "source": [
        "personal_data = {1: (\"Ann\", 29, \"Artist\"), \n",
        "               2: (\"Leo\", 54, \"Programmer\"), \n",
        "               3: (\"Tiffany\", 43, \"Shop Assistant\")}\n",
        "\n",
        "s = [\"{} (age {}) is a {}\".format(value[0], value[1], value[2]) for key, value in personal_data.items()]\n",
        "print(*s, sep = '\\n')"
      ]
    },
    {
      "cell_type": "markdown",
      "metadata": {
        "id": "i9B4DWOZ7-55"
      },
      "source": [
        "7. Требуется определить, является ли данный год високосным. (год является високосным, если его номер кратен 4, но не кратен 100, а также если он кратен 400.)  (★★☆)\n",
        "\n",
        "Входные данные: Вводится единственное число - номер года (целое, положительное, не превышает 30000).\n",
        "\n",
        "Выходные данные: Требуется вывести слово YES, если год является високосным и NO - в противном случае."
      ]
    },
    {
      "cell_type": "code",
      "execution_count": null,
      "metadata": {
        "id": "tnB75I627-55",
        "colab": {
          "base_uri": "https://localhost:8080/"
        },
        "outputId": "751cbdd4-df85-4630-ee87-a41a5918d4b9"
      },
      "outputs": [
        {
          "output_type": "stream",
          "name": "stdout",
          "text": [
            "2012\n",
            "YES\n"
          ]
        }
      ],
      "source": [
        "year = int(input())\n",
        "print('YES') if year % 400 == 0 or (year % 4 == 0 and year % 100 != 0) else print('NO')"
      ]
    },
    {
      "cell_type": "markdown",
      "metadata": {
        "id": "K_PZ2DEf7-55"
      },
      "source": [
        "8. Закодируйте каждый элемент списка слов числом, результат сопоставления (слово-число) поместите в словарь.  (★☆☆)"
      ]
    },
    {
      "cell_type": "code",
      "execution_count": null,
      "metadata": {
        "id": "SPs9JyRF7-56",
        "colab": {
          "base_uri": "https://localhost:8080/"
        },
        "outputId": "a84fff63-993e-487e-cadc-f1781b6c7b29"
      },
      "outputs": [
        {
          "output_type": "execute_result",
          "data": {
            "text/plain": [
              "{'Not': 140536044390658224,\n",
              " 'my': -6752552943153195900,\n",
              " 'cup': -5384680843089499244,\n",
              " 'of': 7914510372478635695,\n",
              " 'tea': 5007609760667864435}"
            ]
          },
          "metadata": {},
          "execution_count": 8
        }
      ],
      "source": [
        "words = ['Not', 'my', 'cup', 'of', 'tea']\n",
        "\n",
        "{key: hash(key) for key in words}"
      ]
    },
    {
      "cell_type": "markdown",
      "metadata": {
        "id": "VpAE38WK7-56"
      },
      "source": [
        "9. Удалить второй элемент из списка по индексу\\по значению  (★☆☆)"
      ]
    },
    {
      "cell_type": "code",
      "execution_count": null,
      "metadata": {
        "id": "1R9l4Ftu7-56",
        "colab": {
          "base_uri": "https://localhost:8080/"
        },
        "outputId": "d4972ca2-f73b-4957-948d-45724ad8714d"
      },
      "outputs": [
        {
          "output_type": "execute_result",
          "data": {
            "text/plain": [
              "['border collie']"
            ]
          },
          "metadata": {},
          "execution_count": 9
        }
      ],
      "source": [
        "dogs = ['border collie', 'australian cattle dog', 'labrador retriever']\n",
        "\n",
        "del dogs[1]\n",
        "dogs.remove('labrador retriever')\n",
        "dogs"
      ]
    },
    {
      "cell_type": "markdown",
      "metadata": {
        "id": "OSHCsLjY7-56"
      },
      "source": [
        "10. Вывести срез списка с 3 по 5 элемент включительно и все слова перевести в верхний регистр (★☆☆)"
      ]
    },
    {
      "cell_type": "code",
      "execution_count": null,
      "metadata": {
        "id": "JGma4FNP7-56",
        "colab": {
          "base_uri": "https://localhost:8080/"
        },
        "outputId": "5ee71ae9-e6ac-430d-cd57-3b3f78716546"
      },
      "outputs": [
        {
          "output_type": "stream",
          "name": "stdout",
          "text": [
            "['AUSTRALIAN', 'CATTLE', 'DOG']\n"
          ]
        }
      ],
      "source": [
        "dogs = ['border', 'collie', 'australian', 'cattle', 'dog', 'labrador', 'retriever']\n",
        "\n",
        "print(list(i.upper() for i in dogs[2:5]))"
      ]
    },
    {
      "cell_type": "markdown",
      "metadata": {
        "id": "xvQNspgc7-57"
      },
      "source": [
        "11. Словарь словарей. Вывести из словаря для каждого питомца его имя, породу, имя владельца, и наличие прививки. Строку вывода формировать через .format() (★☆☆)"
      ]
    },
    {
      "cell_type": "code",
      "execution_count": null,
      "metadata": {
        "id": "9T8ZTmf87-57",
        "colab": {
          "base_uri": "https://localhost:8080/"
        },
        "outputId": "61933e72-275d-40c4-e492-41e73c0e8ac1"
      },
      "outputs": [
        {
          "output_type": "stream",
          "name": "stdout",
          "text": [
            "Willie is a dog. It's owner is Eric. It's  vaccinated.\n",
            "Walter is a cockroach. It's owner is Eric. It's not vaccinated.\n",
            "Peso is a dog. It's owner is Chloe. It's  vaccinated.\n"
          ]
        }
      ],
      "source": [
        "pets = {'willie': {'kind': 'dog', 'owner': 'eric', 'vaccinated': True},\n",
        "        'walter': {'kind': 'cockroach', 'owner': 'eric', 'vaccinated': False},\n",
        "        'peso': {'kind': 'dog', 'owner': 'chloe', 'vaccinated': True},\n",
        "        }\n",
        "\n",
        "s, ls = \"\", []\n",
        "for key, value in pets.items():\n",
        "  s += key.capitalize() + \" is a {}. It's owner is {}. It's {vac} vaccinated.\".format(\n",
        "      value['kind'], value['owner'].capitalize(), vac = \"\" if value['vaccinated'] else \"not\")\n",
        "  ls.append(s)\n",
        "  s = \"\"\n",
        "print(*ls, sep = '\\n')"
      ]
    },
    {
      "cell_type": "markdown",
      "metadata": {
        "id": "Bah9sBea7-57"
      },
      "source": [
        "12. Проверить является ли множество подмножеством другого множества  (★☆☆)"
      ]
    },
    {
      "cell_type": "code",
      "execution_count": null,
      "metadata": {
        "id": "LvJCOUVy7-57",
        "colab": {
          "base_uri": "https://localhost:8080/"
        },
        "outputId": "55c388bd-919c-4e6d-e7e9-2c487c67788e"
      },
      "outputs": [
        {
          "output_type": "execute_result",
          "data": {
            "text/plain": [
              "True"
            ]
          },
          "metadata": {},
          "execution_count": 12
        }
      ],
      "source": [
        "a=set([2, 5, 6])\n",
        "b=set([2, 4, 8, 3, 5, 6])\n",
        "\n",
        "a.issubset(b)"
      ]
    },
    {
      "cell_type": "markdown",
      "metadata": {
        "id": "sfVwYMPL7-57"
      },
      "source": [
        "13. Объединить несколько множеств (★☆☆)"
      ]
    },
    {
      "cell_type": "code",
      "execution_count": null,
      "metadata": {
        "id": "hrKKF3kp7-58",
        "colab": {
          "base_uri": "https://localhost:8080/"
        },
        "outputId": "7e5ae328-eeb7-4744-f82c-02581f5c76c9"
      },
      "outputs": [
        {
          "output_type": "execute_result",
          "data": {
            "text/plain": [
              "{2, 3, 4, 5, 6, 8, 10, 35}"
            ]
          },
          "metadata": {},
          "execution_count": 13
        }
      ],
      "source": [
        "a=set([10, 35, 6, 5])\n",
        "b=set([2, 4, 8, 3, 5, 6, 35])\n",
        "c=set([4, 5, 35])\n",
        "\n",
        "a.union(b).union(c)"
      ]
    },
    {
      "cell_type": "markdown",
      "metadata": {
        "id": "bI5lcYGM7-58"
      },
      "source": [
        "14. Посчитать пересечение множества b с остальными из предыдущего задания  (★★☆)\n"
      ]
    },
    {
      "cell_type": "code",
      "execution_count": null,
      "metadata": {
        "id": "ZpsU-iaT7-58",
        "colab": {
          "base_uri": "https://localhost:8080/"
        },
        "outputId": "562f20f0-e4c1-49bd-fc14-f8dcbd7ebb68"
      },
      "outputs": [
        {
          "output_type": "execute_result",
          "data": {
            "text/plain": [
              "{5, 35}"
            ]
          },
          "metadata": {},
          "execution_count": 14
        }
      ],
      "source": [
        "a.intersection(b).intersection(c)"
      ]
    },
    {
      "cell_type": "markdown",
      "metadata": {
        "id": "uVuXAMxR7-58"
      },
      "source": [
        "15. Вывести множество из элементов, встречающихся в одном множестве, но не встречающиеся в обоих. (★★☆)"
      ]
    },
    {
      "cell_type": "code",
      "execution_count": null,
      "metadata": {
        "id": "EmdVX2Vn7-58",
        "colab": {
          "base_uri": "https://localhost:8080/"
        },
        "outputId": "b16025c3-e406-43db-c92b-495c39432f17"
      },
      "outputs": [
        {
          "output_type": "execute_result",
          "data": {
            "text/plain": [
              "{1, 2, 6, 7}"
            ]
          },
          "metadata": {},
          "execution_count": 15
        }
      ],
      "source": [
        "a=set([1, 2, 3, 4, 5])\n",
        "b=set([3, 4, 5, 6, 7])\n",
        "\n",
        "a.symmetric_difference(b)"
      ]
    },
    {
      "cell_type": "markdown",
      "metadata": {
        "id": "IzGjqSPG7-58"
      },
      "source": [
        "16. Предположим, есть файл с данными клиентов. В качестве простого примера возьмем txt-файл(нужно создать файл с предложенным/другим содержанием самостоятельно) следующего содержания:\n",
        "\n",
        "    lastname,age,debt,occupation\n",
        "    \n",
        "    Adrianov,25,30000,artist\n",
        "    \n",
        "    Нужно считать файл data/credit_sample.txt.\n",
        "    Сделать словарь вида:\n",
        "        {lastname: (age,debt,occupation)}\n",
        "    \n",
        "    Посчитать сколько уникальных профессий получилось в словаре.\n",
        "    \n",
        "    Результат записать в json (★★★)"
      ]
    },
    {
      "cell_type": "code",
      "execution_count": null,
      "metadata": {
        "id": "-Tmno7Y27-59",
        "colab": {
          "base_uri": "https://localhost:8080/"
        },
        "outputId": "87ccc8e4-8661-4475-81b0-2b3c34f55016"
      },
      "outputs": [
        {
          "output_type": "stream",
          "name": "stdout",
          "text": [
            "['lastname', 'age', 'debt', 'occupation']\n",
            "{'clients': {'Adrianov': ('25', '30000', 'artist'), 'Belkin': ('42', '4000', 'programmer'), 'Koltunov': ('32', '100', 'sportsman'), 'Loptev': ('25', '30000', 'artist'), 'Bobrov': ('42', '4000', 'programmer'), 'Karelin': ('32', '100', 'sportsman')}}\n",
            "3\n"
          ]
        }
      ],
      "source": [
        "import json\n",
        "\n",
        "credit_file = open('/content/sample_data/credit_sample.txt', 'r')\n",
        "header = credit_file.readline().strip()\n",
        "header_list = header.split(',')\n",
        "print(header_list)\n",
        "\n",
        "lines = [line.strip().split(',') for line in credit_file if line.strip()]\n",
        "dictionary = {\"clients\": {line[0]: (line[1], line[2], line[3]) for line in lines}}\n",
        "print(dictionary)\n",
        "\n",
        "unique_occ = set()\n",
        "for key, value in dictionary['clients'].items():\n",
        "  unique_occ.add(value[2].lower())\n",
        "\n",
        "print(len(unique_occ))\n",
        "\n",
        "credit_file.close()\n",
        "\n",
        "with open('credit_data.json', 'w') as outfile:\n",
        "  json.dump(dictionary, outfile, indent = 4)"
      ]
    },
    {
      "cell_type": "markdown",
      "metadata": {
        "id": "L-rqo8bV7-59"
      },
      "source": [
        "### os, sys, datetime"
      ]
    },
    {
      "cell_type": "markdown",
      "metadata": {
        "id": "d_Xl0_Sn7-5-"
      },
      "source": [
        "17. Получить список файлов в папке gifs/ и оставить только файлы с расширением .gif (★★☆)"
      ]
    },
    {
      "cell_type": "code",
      "execution_count": null,
      "metadata": {
        "id": "BbX1vHg27-5-",
        "colab": {
          "base_uri": "https://localhost:8080/"
        },
        "outputId": "171c6286-94a4-4be8-af5c-10ad56aee6ab"
      },
      "outputs": [
        {
          "output_type": "stream",
          "name": "stdout",
          "text": [
            "['sample_640×426.gif', 'pnggrad8rgb.png', 'sample_1920×1280.gif', 'sample_1280×853.gif']\n",
            "['sample_640×426.gif', 'sample_1920×1280.gif', 'sample_1280×853.gif']\n"
          ]
        }
      ],
      "source": [
        "import os\n",
        "\n",
        "files = os.listdir('gifs')\n",
        "print(files)\n",
        "gifs = []\n",
        "for file in files:\n",
        "  if file.endswith('.gif'):\n",
        "    gifs.append(file)\n",
        "print(gifs)"
      ]
    },
    {
      "cell_type": "markdown",
      "metadata": {
        "id": "ri_VgtjM7-5-"
      },
      "source": [
        "18. Создать папку с названием temp и удалить её (★☆☆)"
      ]
    },
    {
      "cell_type": "code",
      "execution_count": null,
      "metadata": {
        "id": "om3C97ME7-5-"
      },
      "outputs": [],
      "source": [
        "if not os.path.exists(r'temp'):\n",
        "  os.makedirs('temp')\n",
        "os.rmdir('temp')"
      ]
    },
    {
      "cell_type": "markdown",
      "metadata": {
        "id": "6N333x6h7-5-"
      },
      "source": [
        "19. Вывести переменные среды (★☆☆)"
      ]
    },
    {
      "cell_type": "code",
      "execution_count": null,
      "metadata": {
        "id": "8zt8jasf7-5-",
        "colab": {
          "base_uri": "https://localhost:8080/"
        },
        "outputId": "2ebb3ad3-3d43-4ee4-c5aa-a42c48371818"
      },
      "outputs": [
        {
          "output_type": "execute_result",
          "data": {
            "text/plain": [
              "environ{'NV_LIBCUBLAS_DEV_VERSION': '11.4.1.1043-1',\n",
              "        'NV_CUDA_COMPAT_PACKAGE': 'cuda-compat-11-2',\n",
              "        'NV_CUDNN_PACKAGE_DEV': 'libcudnn8-dev=8.1.1.33-1+cuda11.2',\n",
              "        'LD_LIBRARY_PATH': '/usr/local/nvidia/lib:/usr/local/nvidia/lib64',\n",
              "        'NV_LIBNCCL_DEV_PACKAGE': 'libnccl-dev=2.8.4-1+cuda11.2',\n",
              "        'TCLLIBPATH': '/usr/share/tcltk/tcllib1.19',\n",
              "        'CLOUDSDK_PYTHON': 'python3',\n",
              "        'LANG': 'en_US.UTF-8',\n",
              "        'NV_LIBNPP_DEV_PACKAGE': 'libnpp-dev-11-2=11.3.2.152-1',\n",
              "        'HOSTNAME': '3c041815964f',\n",
              "        'OLDPWD': '/',\n",
              "        'CLOUDSDK_CONFIG': '/content/.config',\n",
              "        'NV_LIBNPP_VERSION': '11.3.2.152-1',\n",
              "        'NV_NVPROF_DEV_PACKAGE': 'cuda-nvprof-11-2=11.2.152-1',\n",
              "        'NVIDIA_VISIBLE_DEVICES': 'all',\n",
              "        'NV_NVPROF_VERSION': '11.2.152-1',\n",
              "        'NV_LIBCUSPARSE_VERSION': '11.4.1.1152-1',\n",
              "        'DATALAB_SETTINGS_OVERRIDES': '{\"kernelManagerProxyPort\":6000,\"kernelManagerProxyHost\":\"172.28.0.3\",\"jupyterArgs\":[\"--ip=172.28.0.2\"],\"debugAdapterMultiplexerPath\":\"/usr/local/bin/dap_multiplexer\",\"enableLsp\":true}',\n",
              "        'NV_LIBCUBLAS_DEV_PACKAGE': 'libcublas-dev-11-2=11.4.1.1043-1',\n",
              "        'ENV': '/root/.bashrc',\n",
              "        'NCCL_VERSION': '2.8.4-1',\n",
              "        'TF_FORCE_GPU_ALLOW_GROWTH': 'true',\n",
              "        'NO_GCE_CHECK': 'False',\n",
              "        'PWD': '/',\n",
              "        'NVARCH': 'x86_64',\n",
              "        'HOME': '/root',\n",
              "        'NV_LIBCUSPARSE_DEV_VERSION': '11.4.1.1152-1',\n",
              "        'KMP_LISTEN_PORT': '6000',\n",
              "        'LAST_FORCED_REBUILD': '20221021',\n",
              "        'NV_LIBNCCL_PACKAGE_VERSION': '2.8.4-1',\n",
              "        'NV_LIBNCCL_PACKAGE': 'libnccl2=2.8.4-1+cuda11.2',\n",
              "        'DEBIAN_FRONTEND': 'noninteractive',\n",
              "        'NV_LIBNCCL_DEV_PACKAGE_NAME': 'libnccl-dev',\n",
              "        'NV_CUDA_LIB_VERSION': '11.2.2-1',\n",
              "        'NV_LIBNPP_PACKAGE': 'libnpp-11-2=11.3.2.152-1',\n",
              "        'NV_LIBNCCL_PACKAGE_NAME': 'libnccl2',\n",
              "        'LIBRARY_PATH': '/usr/local/cuda/lib64/stubs',\n",
              "        'NV_NVTX_VERSION': '11.2.152-1',\n",
              "        'NV_LIBCUBLAS_VERSION': '11.4.1.1043-1',\n",
              "        'NV_LIBCUBLAS_PACKAGE': 'libcublas-11-2=11.4.1.1043-1',\n",
              "        'GCE_METADATA_TIMEOUT': '3',\n",
              "        'NV_CUDNN_VERSION': '8.1.1.33',\n",
              "        'VM_GCE_METADATA_HOST': '169.254.169.254',\n",
              "        'NV_CUDA_CUDART_DEV_VERSION': '11.2.152-1',\n",
              "        'KMP_TARGET_PORT': '9000',\n",
              "        'GLIBCPP_FORCE_NEW': '1',\n",
              "        'TBE_CREDS_ADDR': '172.28.0.1:8008',\n",
              "        'SHELL': '/bin/bash',\n",
              "        'GCS_READ_CACHE_BLOCK_SIZE_MB': '16',\n",
              "        'NV_NVML_DEV_VERSION': '11.2.152-1',\n",
              "        'PYTHONWARNINGS': 'ignore:::pip._internal.cli.base_command',\n",
              "        'CUDA_VERSION': '11.2.2',\n",
              "        'NV_LIBCUBLAS_PACKAGE_NAME': 'libcublas-11-2',\n",
              "        'NVIDIA_DRIVER_CAPABILITIES': 'compute,utility',\n",
              "        'TBE_RUNTIME_ADDR': '172.28.0.1:8011',\n",
              "        'SHLVL': '0',\n",
              "        'PYTHONPATH': '/env/python',\n",
              "        'NV_LIBCUBLAS_DEV_PACKAGE_NAME': 'libcublas-dev-11-2',\n",
              "        'NVIDIA_REQUIRE_CUDA': 'cuda>=11.2 brand=tesla,driver>=418,driver<419 brand=tesla,driver>=450,driver<451',\n",
              "        'NV_LIBNPP_DEV_VERSION': '11.3.2.152-1',\n",
              "        'TBE_EPHEM_CREDS_ADDR': '172.28.0.1:8009',\n",
              "        'NV_CUDA_CUDART_VERSION': '11.2.152-1',\n",
              "        'NV_CUDNN_PACKAGE_NAME': 'libcudnn8',\n",
              "        'GLIBCXX_FORCE_NEW': '1',\n",
              "        'PATH': '/opt/bin:/usr/local/nvidia/bin:/usr/local/cuda/bin:/usr/local/sbin:/usr/local/bin:/usr/sbin:/usr/bin:/sbin:/bin:/tools/node/bin:/tools/google-cloud-sdk/bin',\n",
              "        'NV_LIBNCCL_DEV_PACKAGE_VERSION': '2.8.4-1',\n",
              "        'LD_PRELOAD': '/usr/lib/x86_64-linux-gnu/libtcmalloc.so.4',\n",
              "        'NV_CUDNN_PACKAGE': 'libcudnn8=8.1.1.33-1+cuda11.2',\n",
              "        'JPY_PARENT_PID': '59',\n",
              "        'TERM': 'xterm-color',\n",
              "        'CLICOLOR': '1',\n",
              "        'PAGER': 'cat',\n",
              "        'GIT_PAGER': 'cat',\n",
              "        'MPLBACKEND': 'module://ipykernel.pylab.backend_inline',\n",
              "        'ENABLE_DIRECTORYPREFETCHER': '1',\n",
              "        'USE_AUTH_EPHEM': '1',\n",
              "        'PYDEVD_USE_FRAME_EVAL': 'NO'}"
            ]
          },
          "metadata": {},
          "execution_count": 19
        }
      ],
      "source": [
        "os.environ"
      ]
    },
    {
      "cell_type": "markdown",
      "metadata": {
        "id": "s23izIbV7-5-"
      },
      "source": [
        "20. Как игнорировать warrnings?"
      ]
    },
    {
      "cell_type": "code",
      "source": [
        "import sys\n",
        "\n",
        "if not sys.warnoptions:\n",
        "    import warnings\n",
        "    warnings.simplefilter(\"ignore\")"
      ],
      "metadata": {
        "id": "dA5m7Cbzkfrw"
      },
      "execution_count": null,
      "outputs": []
    },
    {
      "cell_type": "markdown",
      "metadata": {
        "id": "SzCH8oZO7-5-"
      },
      "source": [
        "21. Вывести сегодняшнюю, вчерашнюю и завтрашнюю дату (☆☆☆)"
      ]
    },
    {
      "cell_type": "code",
      "execution_count": null,
      "metadata": {
        "id": "J4duLqPc7-5_",
        "colab": {
          "base_uri": "https://localhost:8080/"
        },
        "outputId": "084165d0-8570-401b-b074-d84f20877c04"
      },
      "outputs": [
        {
          "output_type": "stream",
          "name": "stdout",
          "text": [
            "Today is 2022-10-26\n",
            "Yesterday was 2022-10-25\n",
            "Tomorrow is 2022-10-27\n"
          ]
        }
      ],
      "source": [
        "from datetime import date, timedelta\n",
        "\n",
        "print(\"Today is {}\".format(date.today()))\n",
        "print(\"Yesterday was {}\".format(date.today() - timedelta(days = 1)))\n",
        "print(\"Tomorrow is {}\".format(date.today() + timedelta(days = 1)))"
      ]
    },
    {
      "cell_type": "markdown",
      "metadata": {
        "id": "MLqVlaHK7-5_"
      },
      "source": [
        "22. Вывести день недели сегодняшней даты (★☆☆)"
      ]
    },
    {
      "cell_type": "code",
      "execution_count": null,
      "metadata": {
        "id": "G8SGml7y7-5_",
        "colab": {
          "base_uri": "https://localhost:8080/"
        },
        "outputId": "0d785237-2c63-4e98-f120-c7b987a5567b"
      },
      "outputs": [
        {
          "output_type": "stream",
          "name": "stdout",
          "text": [
            "2\n",
            "Wednesday\n"
          ]
        }
      ],
      "source": [
        "print(date.today().weekday())\n",
        "print(date.today().strftime('%A'))"
      ]
    },
    {
      "cell_type": "markdown",
      "metadata": {
        "id": "REha1tAt7-5_"
      },
      "source": [
        "23. Получить список дат за предыдущую неделю (★★☆)"
      ]
    },
    {
      "cell_type": "code",
      "execution_count": null,
      "metadata": {
        "id": "59rDsO2X7-5_",
        "colab": {
          "base_uri": "https://localhost:8080/"
        },
        "outputId": "f8df0e0a-f88e-4b98-f752-311661222a70"
      },
      "outputs": [
        {
          "output_type": "stream",
          "name": "stdout",
          "text": [
            "2022-10-19 2022-10-20 2022-10-21 2022-10-22 2022-10-23 2022-10-24 2022-10-25\n"
          ]
        }
      ],
      "source": [
        "print(*[date.today() - timedelta(days = i) for i in range(7,0,-1)])"
      ]
    },
    {
      "cell_type": "markdown",
      "metadata": {
        "id": "eGzHWYoJ7-5_"
      },
      "source": [
        "24. Вывести дату с часами и минутами, отформатировать в формате: 01.12.2019 00:12:54 (★★☆)"
      ]
    },
    {
      "cell_type": "code",
      "execution_count": null,
      "metadata": {
        "id": "ERifWa0x7-5_",
        "colab": {
          "base_uri": "https://localhost:8080/"
        },
        "outputId": "00986c82-7839-436f-a5a5-ddae23305a3b"
      },
      "outputs": [
        {
          "output_type": "stream",
          "name": "stdout",
          "text": [
            "26.10.2022 13:01:59\n"
          ]
        }
      ],
      "source": [
        "from datetime import datetime\n",
        "\n",
        "print(datetime.now().strftime('%d.%m.%Y %H:%M:%S'))"
      ]
    },
    {
      "cell_type": "markdown",
      "metadata": {
        "id": "xtw6syHf7-5_"
      },
      "source": [
        "25. Исходя из текущей даты вычислить дату предыдущего понедельника (★★★)"
      ]
    },
    {
      "cell_type": "code",
      "execution_count": null,
      "metadata": {
        "id": "2j3IO3nm7-6A",
        "colab": {
          "base_uri": "https://localhost:8080/"
        },
        "outputId": "8c2930fd-7d0e-4555-afaf-e4302108947a"
      },
      "outputs": [
        {
          "output_type": "stream",
          "name": "stdout",
          "text": [
            "2022-10-19\n"
          ]
        }
      ],
      "source": [
        "print(date.today() - timedelta(weeks = 1))"
      ]
    },
    {
      "cell_type": "markdown",
      "metadata": {
        "id": "erB0b_lQ7-6A"
      },
      "source": [
        "# Numpy"
      ]
    },
    {
      "cell_type": "code",
      "execution_count": null,
      "metadata": {
        "id": "I2hMMh4J7-6A"
      },
      "outputs": [],
      "source": [
        "import numpy as np"
      ]
    },
    {
      "cell_type": "markdown",
      "metadata": {
        "id": "Zc2HN9ah7-6A"
      },
      "source": [
        "1. Задать нулевой вектор размером 10 (★☆☆)\n"
      ]
    },
    {
      "cell_type": "code",
      "execution_count": null,
      "metadata": {
        "id": "Mo3_ncPr7-6A",
        "colab": {
          "base_uri": "https://localhost:8080/"
        },
        "outputId": "8a2af469-ff4f-4f14-98d5-5a7c1555af8e"
      },
      "outputs": [
        {
          "output_type": "execute_result",
          "data": {
            "text/plain": [
              "array([0., 0., 0., 0., 0., 0., 0., 0., 0., 0.])"
            ]
          },
          "metadata": {},
          "execution_count": 27
        }
      ],
      "source": [
        "np.zeros(10)"
      ]
    },
    {
      "cell_type": "markdown",
      "metadata": {
        "id": "zo6g4t_O7-6A"
      },
      "source": [
        "2. Как найти размер занимаемой памяти любым массивом (★☆☆)\n"
      ]
    },
    {
      "cell_type": "code",
      "execution_count": null,
      "metadata": {
        "id": "H4u2UL4R7-6A",
        "colab": {
          "base_uri": "https://localhost:8080/"
        },
        "outputId": "d798b406-e508-48d7-e10d-f8162a11e555"
      },
      "outputs": [
        {
          "output_type": "execute_result",
          "data": {
            "text/plain": [
              "8"
            ]
          },
          "metadata": {},
          "execution_count": 28
        }
      ],
      "source": [
        "np.ones(100).itemsize"
      ]
    },
    {
      "cell_type": "markdown",
      "metadata": {
        "id": "RgMlxewK7-6A"
      },
      "source": [
        "3. Создать вектор из 10 нулей, кроме пятого элемента, который равен 1 (★☆☆)"
      ]
    },
    {
      "cell_type": "code",
      "execution_count": null,
      "metadata": {
        "id": "jiQkXc4O7-6A",
        "colab": {
          "base_uri": "https://localhost:8080/"
        },
        "outputId": "48be76f8-2764-48af-cc19-48992a8faa86"
      },
      "outputs": [
        {
          "output_type": "execute_result",
          "data": {
            "text/plain": [
              "array([0, 0, 0, 0, 1, 0, 0, 0, 0, 0])"
            ]
          },
          "metadata": {},
          "execution_count": 29
        }
      ],
      "source": [
        "(np.arange(10) == 4).astype(int)"
      ]
    },
    {
      "cell_type": "markdown",
      "metadata": {
        "id": "kPEle2qT7-6B"
      },
      "source": [
        "4. Создать вектор от 10 до 50 включительно (★☆☆)\n"
      ]
    },
    {
      "cell_type": "code",
      "execution_count": null,
      "metadata": {
        "id": "fJnAkqW-7-6B",
        "colab": {
          "base_uri": "https://localhost:8080/"
        },
        "outputId": "0721aac8-5d67-4b73-8129-f27e4f6d2dc9"
      },
      "outputs": [
        {
          "output_type": "execute_result",
          "data": {
            "text/plain": [
              "array([10, 11, 12, 13, 14, 15, 16, 17, 18, 19, 20, 21, 22, 23, 24, 25, 26,\n",
              "       27, 28, 29, 30, 31, 32, 33, 34, 35, 36, 37, 38, 39, 40, 41, 42, 43,\n",
              "       44, 45, 46, 47, 48, 49, 50])"
            ]
          },
          "metadata": {},
          "execution_count": 30
        }
      ],
      "source": [
        "a = np.arange(10, 51)\n",
        "a"
      ]
    },
    {
      "cell_type": "markdown",
      "metadata": {
        "id": "9P1_c7se7-6B"
      },
      "source": [
        "5. Перевернуть вектор (первый элемент будет последним) (★☆☆)"
      ]
    },
    {
      "cell_type": "code",
      "execution_count": null,
      "metadata": {
        "id": "nZ8mw8B67-6B",
        "colab": {
          "base_uri": "https://localhost:8080/"
        },
        "outputId": "f53d01d7-57f0-4344-f2c0-c77e440b773d"
      },
      "outputs": [
        {
          "output_type": "execute_result",
          "data": {
            "text/plain": [
              "array([50, 49, 48, 47, 46, 45, 44, 43, 42, 41, 40, 39, 38, 37, 36, 35, 34,\n",
              "       33, 32, 31, 30, 29, 28, 27, 26, 25, 24, 23, 22, 21, 20, 19, 18, 17,\n",
              "       16, 15, 14, 13, 12, 11, 10])"
            ]
          },
          "metadata": {},
          "execution_count": 31
        }
      ],
      "source": [
        "a[::-1]"
      ]
    },
    {
      "cell_type": "markdown",
      "metadata": {
        "id": "431qEvN87-6B"
      },
      "source": [
        "6. Создать матрицу 3х3 с элементами от 0 до 8 (★☆☆)\n"
      ]
    },
    {
      "cell_type": "code",
      "execution_count": null,
      "metadata": {
        "id": "b4A8JfF37-6B",
        "colab": {
          "base_uri": "https://localhost:8080/"
        },
        "outputId": "193c610a-02eb-4a1b-f87f-728be3f2ac5f"
      },
      "outputs": [
        {
          "output_type": "execute_result",
          "data": {
            "text/plain": [
              "array([[0, 1, 2],\n",
              "       [3, 4, 5],\n",
              "       [6, 7, 8]])"
            ]
          },
          "metadata": {},
          "execution_count": 32
        }
      ],
      "source": [
        "np.reshape(np.arange(9), (3,3))"
      ]
    },
    {
      "cell_type": "markdown",
      "metadata": {
        "id": "PMb49oNH7-6B"
      },
      "source": [
        "7. Найти индексы не нулевых элементов в numpy array [1,2,0,0,4,0] (★☆☆)"
      ]
    },
    {
      "cell_type": "code",
      "execution_count": null,
      "metadata": {
        "id": "K8dAIKrt7-6B",
        "colab": {
          "base_uri": "https://localhost:8080/"
        },
        "outputId": "f5568d8b-1da5-449d-bca5-11cee753bf78"
      },
      "outputs": [
        {
          "output_type": "stream",
          "name": "stdout",
          "text": [
            "[0 1 4]\n"
          ]
        }
      ],
      "source": [
        "a = np.array([1, 2, 0, 0, 4, 0])\n",
        "print(*a.nonzero())"
      ]
    },
    {
      "cell_type": "markdown",
      "metadata": {
        "id": "jmOnmP6b7-6B"
      },
      "source": [
        "8. Создать матрицу 10x10 array с рандомными числами и найти минимум, максимум и среднее (★☆☆)"
      ]
    },
    {
      "cell_type": "code",
      "execution_count": null,
      "metadata": {
        "id": "PvbVEYkt7-6B",
        "colab": {
          "base_uri": "https://localhost:8080/"
        },
        "outputId": "bdcdcb8e-de7e-43d2-b788-a968904329de"
      },
      "outputs": [
        {
          "output_type": "stream",
          "name": "stdout",
          "text": [
            "[[6408 3596 2857 5922 3214 1267  481 9970 2289 3751]\n",
            " [3570 1008 8417 9582 3346 8387 5530  762 9773  365]\n",
            " [5512 4134  112 2885 9364 6050 4571 3834 4184 8642]\n",
            " [5301 3493 3290 1542 4173 2498 3601 4843 6040 8336]\n",
            " [  28   64 3114  978 8503 2830 6026 3166 7922 1932]\n",
            " [8522 3431 4334 8197 6300 1047 8258  942 4032 8403]\n",
            " [9851 1496 1263 7843 9724 5163 7386 7802 5542 5720]\n",
            " [2513 9441  356 7043 3614 9714 6237 8968 1916 4072]\n",
            " [3789 5922 4674 1520 3892 6419 2657  843 7726 4759]\n",
            " [7802 6639 5559 6700 1379 2994 7312 9401 5827 4448]]\n",
            "28\n",
            "9970\n",
            "4868.55\n"
          ]
        }
      ],
      "source": [
        "a = np.random.randint(10000, size = (10,10))\n",
        "print(a)\n",
        "print(a.min())\n",
        "print(a.max())\n",
        "print(np.mean(a))"
      ]
    },
    {
      "cell_type": "markdown",
      "metadata": {
        "id": "7Akk1awh7-6C"
      },
      "source": [
        "9. Создать матрицу 8x8 и заполнить 0 и 1 в стиле шахматной доски (★☆☆)"
      ]
    },
    {
      "cell_type": "code",
      "execution_count": null,
      "metadata": {
        "id": "825TezXL7-6C",
        "colab": {
          "base_uri": "https://localhost:8080/"
        },
        "outputId": "65a2c803-9b40-4f57-83d5-48f392ef56c3"
      },
      "outputs": [
        {
          "output_type": "execute_result",
          "data": {
            "text/plain": [
              "array([[0, 1, 0, 1, 0, 1, 0, 1],\n",
              "       [1, 0, 1, 0, 1, 0, 1, 0],\n",
              "       [0, 1, 0, 1, 0, 1, 0, 1],\n",
              "       [1, 0, 1, 0, 1, 0, 1, 0],\n",
              "       [0, 1, 0, 1, 0, 1, 0, 1],\n",
              "       [1, 0, 1, 0, 1, 0, 1, 0],\n",
              "       [0, 1, 0, 1, 0, 1, 0, 1],\n",
              "       [1, 0, 1, 0, 1, 0, 1, 0]])"
            ]
          },
          "metadata": {},
          "execution_count": 35
        }
      ],
      "source": [
        "np.indices((8,8)).sum(axis=0) % 2"
      ]
    },
    {
      "cell_type": "markdown",
      "metadata": {
        "id": "tPItbLuk7-6C"
      },
      "source": [
        "10. Нормализовать рандомную матрицу 5x5 (★☆☆)\n"
      ]
    },
    {
      "cell_type": "code",
      "execution_count": null,
      "metadata": {
        "id": "NxpOioEr7-6C",
        "colab": {
          "base_uri": "https://localhost:8080/"
        },
        "outputId": "7ccf9bb3-6219-4066-8443-368d2d9a7413"
      },
      "outputs": [
        {
          "output_type": "stream",
          "name": "stdout",
          "text": [
            "[[4754  839 3913 9519  314]\n",
            " [5313 9032 6409 3358 6809]\n",
            " [3627 5748 9993 2537 4332]\n",
            " [3889 7888  176 8799 5502]\n",
            " [7950 8786 6759  840 5085]]\n",
            "[[19339]\n",
            " [30921]\n",
            " [26237]\n",
            " [26254]\n",
            " [29420]]\n",
            "\n",
            "\n",
            "[[0.2458245  0.04338384 0.20233725 0.4922178  0.01623662]\n",
            " [0.17182497 0.29209922 0.20727014 0.10859933 0.22020633]\n",
            " [0.13823989 0.21907993 0.38087434 0.09669551 0.16511034]\n",
            " [0.14812981 0.30044946 0.00670374 0.33514893 0.20956807]\n",
            " [0.27022434 0.29864038 0.22974167 0.02855201 0.1728416 ]]\n",
            "[[1.]\n",
            " [1.]\n",
            " [1.]\n",
            " [1.]\n",
            " [1.]]\n"
          ]
        }
      ],
      "source": [
        "a = np.random.randint(10000, size = (5,5))\n",
        "print(a)\n",
        "print(np.sum(a, axis = 1)[:, np.newaxis]) #сумма элементов в каждой строке не равна 1\n",
        "print('\\n')\n",
        "\n",
        "normalized_a = a / np.linalg.norm(a, axis = 1, ord = 1)[:, np.newaxis]\n",
        "print(normalized_a)\n",
        "print(np.sum(normalized_a, axis = 1)[:, np.newaxis])"
      ]
    },
    {
      "cell_type": "markdown",
      "metadata": {
        "id": "rpnPFQiD7-6C"
      },
      "source": [
        "11. Найти общие элементы между двумя массивами\n"
      ]
    },
    {
      "cell_type": "code",
      "execution_count": null,
      "metadata": {
        "id": "Om2KNfr57-6C",
        "colab": {
          "base_uri": "https://localhost:8080/"
        },
        "outputId": "6786352d-d260-4d29-f047-50b231f63ef8"
      },
      "outputs": [
        {
          "output_type": "stream",
          "name": "stdout",
          "text": [
            "[[2 0 1]\n",
            " [8 7 8]\n",
            " [0 5 9]] \n",
            "\n",
            "[[3 8 9]\n",
            " [7 2 2]\n",
            " [7 2 2]] \n",
            "\n",
            "[2 7 8 9]\n"
          ]
        }
      ],
      "source": [
        "x = np.random.randint(10, size = (3,3))\n",
        "print(x, \"\\n\")\n",
        "y = np.random.randint(10, size = (3,3))\n",
        "print(y, \"\\n\")\n",
        "print(np.intersect1d(x,y))"
      ]
    },
    {
      "cell_type": "markdown",
      "metadata": {
        "id": "aqQ7cw7Z7-6C"
      },
      "source": [
        "12. Извлечь целую часть рандомного массива чисел различными способами (максимум 5) (★★☆)"
      ]
    },
    {
      "cell_type": "code",
      "execution_count": null,
      "metadata": {
        "id": "km63zOAL7-6C",
        "colab": {
          "base_uri": "https://localhost:8080/"
        },
        "outputId": "7a1190ff-12ff-4a2d-c294-77d679c35566"
      },
      "outputs": [
        {
          "output_type": "stream",
          "name": "stdout",
          "text": [
            "[3.82419583e+00 2.39235654e+00 6.66039280e+00 1.61430056e+00\n",
            " 6.30680058e+00 2.97419237e+00 6.42333788e-01 1.86111852e+00\n",
            " 9.24971482e+00 7.92438979e-03] \n",
            "\n",
            "[3. 2. 6. 1. 6. 2. 0. 1. 9. 0.]\n",
            "[4. 2. 7. 2. 6. 3. 1. 2. 9. 0.]\n",
            "[3. 2. 6. 1. 6. 2. 0. 1. 9. 0.]\n",
            "[3. 2. 6. 1. 6. 2. 0. 1. 9. 0.]\n",
            "[3 2 6 1 6 2 0 1 9 0]\n"
          ]
        }
      ],
      "source": [
        "a = np.random.uniform(0, 10, 10)\n",
        "print(a, '\\n')\n",
        "\n",
        "print(np.trunc(a))\n",
        "print(np.round(a))\n",
        "print(a // 1)\n",
        "print(a - a % 1)\n",
        "print(a.astype(int))"
      ]
    },
    {
      "cell_type": "markdown",
      "metadata": {
        "id": "f_rFnjH37-6C"
      },
      "source": [
        "13. Создать рандомный вектор размера 10 и отсортировать его (★★☆)"
      ]
    },
    {
      "cell_type": "code",
      "execution_count": null,
      "metadata": {
        "id": "QfFtNYNg7-6C",
        "colab": {
          "base_uri": "https://localhost:8080/"
        },
        "outputId": "d6b09f35-ca4c-4c93-c7a6-9af3e621cf50"
      },
      "outputs": [
        {
          "output_type": "execute_result",
          "data": {
            "text/plain": [
              "[124, 159, 305, 344, 375, 539, 543, 596, 924, 953]"
            ]
          },
          "metadata": {},
          "execution_count": 39
        }
      ],
      "source": [
        "sorted(np.random.randint(1000, size = 10))"
      ]
    },
    {
      "cell_type": "markdown",
      "metadata": {
        "id": "bJzpgOl37-6D"
      },
      "source": [
        "14. Проверить одинаковы ли два рандомных массива А и B (★★☆)\n"
      ]
    },
    {
      "cell_type": "code",
      "execution_count": null,
      "metadata": {
        "id": "6n303JJr7-6D",
        "colab": {
          "base_uri": "https://localhost:8080/"
        },
        "outputId": "449f3da9-0be8-476f-d4c5-1ce22bb80212"
      },
      "outputs": [
        {
          "output_type": "execute_result",
          "data": {
            "text/plain": [
              "True"
            ]
          },
          "metadata": {},
          "execution_count": 40
        }
      ],
      "source": [
        "a = np.array([[1,2,6], [5,5,8]])\n",
        "b = np.array([[1,2,6], [5,5,8]])\n",
        "np.array_equal(a, b)"
      ]
    },
    {
      "cell_type": "markdown",
      "metadata": {
        "id": "JoJglzhz7-6D"
      },
      "source": [
        "15. Создать рандомный вектор размером 10 и максимальный элемент заменить на -1 (★★☆)\n"
      ]
    },
    {
      "cell_type": "code",
      "execution_count": null,
      "metadata": {
        "id": "e5mGRtnL7-6D",
        "colab": {
          "base_uri": "https://localhost:8080/"
        },
        "outputId": "b642813b-2dbb-4e14-d425-d8942feb9208"
      },
      "outputs": [
        {
          "output_type": "stream",
          "name": "stdout",
          "text": [
            "[3909 3955 1283 8833 2338  272 1572 6089 3685 4445]\n",
            "[3909 3955 1283   -1 2338  272 1572 6089 3685 4445]\n"
          ]
        }
      ],
      "source": [
        "a = np.random.randint(10000, size = 10)\n",
        "print(a)\n",
        "\n",
        "a[a.argmax()] = -1\n",
        "print(a)"
      ]
    },
    {
      "cell_type": "markdown",
      "metadata": {
        "id": "mAGLVuFF7-6D"
      },
      "source": [
        "16. Найдите самый близкий элемент к данному рандомному числу в векторе? (★★☆)\n"
      ]
    },
    {
      "cell_type": "code",
      "execution_count": null,
      "metadata": {
        "id": "89qRlKiw7-6D",
        "colab": {
          "base_uri": "https://localhost:8080/"
        },
        "outputId": "3df7a252-f84d-4691-8fd5-deed01654455"
      },
      "outputs": [
        {
          "output_type": "stream",
          "name": "stdout",
          "text": [
            "97.29572023632376\n",
            "97\n"
          ]
        }
      ],
      "source": [
        "Z = np.arange(100)\n",
        "v = np.random.uniform(0,100)\n",
        "print(v)\n",
        "\n",
        "index = (np.abs(Z - v)).argmin()\n",
        "print(Z[index])"
      ]
    },
    {
      "cell_type": "markdown",
      "metadata": {
        "id": "36WBkhF-7-6D"
      },
      "source": [
        "17. Посчитать среднее для каждой строки матрицы (★★☆)"
      ]
    },
    {
      "cell_type": "code",
      "execution_count": null,
      "metadata": {
        "id": "GnLZw8aJ7-6D",
        "colab": {
          "base_uri": "https://localhost:8080/"
        },
        "outputId": "a34d3952-5ec3-4f6d-c9cc-dce15df5da27"
      },
      "outputs": [
        {
          "output_type": "stream",
          "name": "stdout",
          "text": [
            "[[243 208 752 517  26]\n",
            " [644 408 824 677 532]\n",
            " [911 539 271 262 967]\n",
            " [128 835 512 795 829]\n",
            " [720 903 230 305 804]] \n",
            "\n",
            "[[349.2]\n",
            " [617. ]\n",
            " [590. ]\n",
            " [619.8]\n",
            " [592.4]]\n"
          ]
        }
      ],
      "source": [
        "a = np.random.randint(1000, size = (5,5))\n",
        "print(a, '\\n')\n",
        "print(np.mean(a, axis = 1)[:, np.newaxis])"
      ]
    },
    {
      "cell_type": "markdown",
      "metadata": {
        "id": "uh0PaELi7-6D"
      },
      "source": [
        "18. Посчитать среднее со скользящим окном над массивом (★★★)\n"
      ]
    },
    {
      "cell_type": "code",
      "execution_count": null,
      "metadata": {
        "id": "G1FMXEzw7-6D",
        "colab": {
          "base_uri": "https://localhost:8080/"
        },
        "outputId": "0b811049-9e14-4313-867d-cfc9c0b892d7"
      },
      "outputs": [
        {
          "output_type": "stream",
          "name": "stdout",
          "text": [
            "[240 713  78 171 195 317 983 191 365 785]\n",
            "[476.5 395.5 124.5 183.  256.  650.  587.  278.  575. ]\n"
          ]
        }
      ],
      "source": [
        "def cumulative_mean(array, window):\n",
        "  cumulative_arr = np.cumsum(array)\n",
        "  cumulative_arr[window:] = cumulative_arr[window:] - cumulative_arr[:-window]\n",
        "  return cumulative_arr[window - 1:] / window\n",
        "\n",
        "arr = np.random.randint(1000, size = (10))\n",
        "print(arr)\n",
        "print(cumulative_mean(arr, 2))"
      ]
    },
    {
      "cell_type": "markdown",
      "metadata": {
        "id": "hjyrzC-K7-6E"
      },
      "source": [
        "# Regular expressions\n"
      ]
    },
    {
      "cell_type": "markdown",
      "metadata": {
        "id": "Qyr-_5kN7-6E"
      },
      "source": [
        "1. Из строки в файле data/rejson.txt вытащить хэш. Пример:\n",
        "\n",
        "'master_guid': '<b>233880bb4c50d247f84edc9cac9e6e29</b>_2308194320'"
      ]
    },
    {
      "cell_type": "code",
      "execution_count": null,
      "metadata": {
        "id": "snI9_pDw7-6E",
        "colab": {
          "base_uri": "https://localhost:8080/",
          "height": 35
        },
        "outputId": "bd0f0cc9-b877-42a3-c7dd-0037fdff5cfb"
      },
      "outputs": [
        {
          "output_type": "execute_result",
          "data": {
            "text/plain": [
              "'233880bb4c50d247f84edc9cac9e6e29'"
            ],
            "application/vnd.google.colaboratory.intrinsic+json": {
              "type": "string"
            }
          },
          "metadata": {},
          "execution_count": 45
        }
      ],
      "source": [
        "import re\n",
        "re.search(\" '(\\w+)_\", \"'master_guid': '233880bb4c50d247f84edc9cac9e6e29_2308194320'\")[1]"
      ]
    }
  ],
  "metadata": {
    "kernelspec": {
      "display_name": "Python 3 (ipykernel)",
      "language": "python",
      "name": "python3"
    },
    "language_info": {
      "codemirror_mode": {
        "name": "ipython",
        "version": 3
      },
      "file_extension": ".py",
      "mimetype": "text/x-python",
      "name": "python",
      "nbconvert_exporter": "python",
      "pygments_lexer": "ipython3",
      "version": "3.9.12"
    },
    "colab": {
      "provenance": [],
      "collapsed_sections": [],
      "include_colab_link": true
    }
  },
  "nbformat": 4,
  "nbformat_minor": 0
}